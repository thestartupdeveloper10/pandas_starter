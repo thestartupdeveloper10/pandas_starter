{
 "cells": [
  {
   "cell_type": "code",
   "execution_count": 1,
   "id": "2eb8d44a",
   "metadata": {},
   "outputs": [],
   "source": [
    "import pandas as pd\n",
    "poke_df=pd.read_csv('pokemon_data.csv',index_col='#')"
   ]
  },
  {
   "cell_type": "markdown",
   "id": "d9e85982",
   "metadata": {},
   "source": [
    "# head()\n",
    "The head() is used to get the top 5 rows in each column"
   ]
  },
  {
   "cell_type": "code",
   "execution_count": 2,
   "id": "07449205",
   "metadata": {
    "scrolled": true
   },
   "outputs": [
    {
     "name": "stdout",
     "output_type": "stream",
     "text": [
      "                    Name Type 1  Type 2  HP  Attack  Defense  Sp. Atk  \\\n",
      "#                                                                       \n",
      "1              Bulbasaur  Grass  Poison  45      49       49       65   \n",
      "2                Ivysaur  Grass  Poison  60      62       63       80   \n",
      "3               Venusaur  Grass  Poison  80      82       83      100   \n",
      "3  VenusaurMega Venusaur  Grass  Poison  80     100      123      122   \n",
      "4             Charmander   Fire     NaN  39      52       43       60   \n",
      "\n",
      "   Sp. Def  Speed  Generation  Legendary  \n",
      "#                                         \n",
      "1       65     45           1      False  \n",
      "2       80     60           1      False  \n",
      "3      100     80           1      False  \n",
      "3      120     80           1      False  \n",
      "4       50     65           1      False  \n"
     ]
    }
   ],
   "source": [
    "print(poke_df.head())"
   ]
  },
  {
   "cell_type": "markdown",
   "id": "9a699a5d",
   "metadata": {},
   "source": [
    "# columns()\n",
    "Show columns of the dataframe"
   ]
  },
  {
   "cell_type": "code",
   "execution_count": 3,
   "id": "52823181",
   "metadata": {},
   "outputs": [
    {
     "name": "stdout",
     "output_type": "stream",
     "text": [
      "Index(['Name', 'Type 1', 'Type 2', 'HP', 'Attack', 'Defense', 'Sp. Atk',\n",
      "       'Sp. Def', 'Speed', 'Generation', 'Legendary'],\n",
      "      dtype='object')\n"
     ]
    }
   ],
   "source": [
    "columns=poke_df.columns\n",
    "print(columns)"
   ]
  },
  {
   "cell_type": "markdown",
   "id": "4b9b9e32",
   "metadata": {},
   "source": [
    "# shape()\n",
    "used to show the number of columns and rows"
   ]
  },
  {
   "cell_type": "code",
   "execution_count": 4,
   "id": "2ca18580",
   "metadata": {},
   "outputs": [
    {
     "name": "stdout",
     "output_type": "stream",
     "text": [
      "(800, 11)\n"
     ]
    }
   ],
   "source": [
    "shape=poke_df.shape\n",
    "print(shape)"
   ]
  },
  {
   "cell_type": "markdown",
   "id": "913acece",
   "metadata": {},
   "source": [
    "# describe()\n",
    "show some  overal information about the dataframe"
   ]
  },
  {
   "cell_type": "code",
   "execution_count": 5,
   "id": "88e544ce",
   "metadata": {
    "scrolled": true
   },
   "outputs": [
    {
     "name": "stdout",
     "output_type": "stream",
     "text": [
      "               HP      Attack     Defense     Sp. Atk     Sp. Def       Speed  \\\n",
      "count  800.000000  800.000000  800.000000  800.000000  800.000000  800.000000   \n",
      "mean    69.258750   79.001250   73.842500   72.820000   71.902500   68.277500   \n",
      "std     25.534669   32.457366   31.183501   32.722294   27.828916   29.060474   \n",
      "min      1.000000    5.000000    5.000000   10.000000   20.000000    5.000000   \n",
      "25%     50.000000   55.000000   50.000000   49.750000   50.000000   45.000000   \n",
      "50%     65.000000   75.000000   70.000000   65.000000   70.000000   65.000000   \n",
      "75%     80.000000  100.000000   90.000000   95.000000   90.000000   90.000000   \n",
      "max    255.000000  190.000000  230.000000  194.000000  230.000000  180.000000   \n",
      "\n",
      "       Generation  \n",
      "count   800.00000  \n",
      "mean      3.32375  \n",
      "std       1.66129  \n",
      "min       1.00000  \n",
      "25%       2.00000  \n",
      "50%       3.00000  \n",
      "75%       5.00000  \n",
      "max       6.00000  \n"
     ]
    }
   ],
   "source": [
    "print(poke_df.describe())"
   ]
  },
  {
   "cell_type": "markdown",
   "id": "a0e8126c",
   "metadata": {},
   "source": [
    "# describe individual column"
   ]
  },
  {
   "cell_type": "code",
   "execution_count": 6,
   "id": "14e9cefa",
   "metadata": {
    "scrolled": true
   },
   "outputs": [
    {
     "name": "stdout",
     "output_type": "stream",
     "text": [
      "count    800.000000\n",
      "mean      79.001250\n",
      "std       32.457366\n",
      "min        5.000000\n",
      "25%       55.000000\n",
      "50%       75.000000\n",
      "75%      100.000000\n",
      "max      190.000000\n",
      "Name: Attack, dtype: float64\n"
     ]
    }
   ],
   "source": [
    "attack=poke_df['Attack'].describe()\n",
    "print(attack)"
   ]
  },
  {
   "cell_type": "markdown",
   "id": "fe817972",
   "metadata": {},
   "source": [
    "# info()\n",
    "get overal view of the dataframe"
   ]
  },
  {
   "cell_type": "code",
   "execution_count": 7,
   "id": "a8be5174",
   "metadata": {},
   "outputs": [
    {
     "name": "stdout",
     "output_type": "stream",
     "text": [
      "<class 'pandas.core.frame.DataFrame'>\n",
      "Index: 800 entries, 1 to 721\n",
      "Data columns (total 11 columns):\n",
      " #   Column      Non-Null Count  Dtype \n",
      "---  ------      --------------  ----- \n",
      " 0   Name        800 non-null    object\n",
      " 1   Type 1      800 non-null    object\n",
      " 2   Type 2      414 non-null    object\n",
      " 3   HP          800 non-null    int64 \n",
      " 4   Attack      800 non-null    int64 \n",
      " 5   Defense     800 non-null    int64 \n",
      " 6   Sp. Atk     800 non-null    int64 \n",
      " 7   Sp. Def     800 non-null    int64 \n",
      " 8   Speed       800 non-null    int64 \n",
      " 9   Generation  800 non-null    int64 \n",
      " 10  Legendary   800 non-null    bool  \n",
      "dtypes: bool(1), int64(7), object(3)\n",
      "memory usage: 69.5+ KB\n",
      "None\n"
     ]
    }
   ],
   "source": [
    "print(poke_df.info())"
   ]
  },
  {
   "cell_type": "markdown",
   "id": "566e1432",
   "metadata": {},
   "source": [
    "in the above data frame we can see that the column Type 2 has missing values"
   ]
  },
  {
   "cell_type": "markdown",
   "id": "591e0619",
   "metadata": {},
   "source": [
    "# isnull()\n",
    "show true when rows have null values and false when rows dont have null values"
   ]
  },
  {
   "cell_type": "code",
   "execution_count": 8,
   "id": "749dfb01",
   "metadata": {},
   "outputs": [
    {
     "name": "stdout",
     "output_type": "stream",
     "text": [
      "      Name  Type 1  Type 2     HP  Attack  Defense  Sp. Atk  Sp. Def  Speed  \\\n",
      "#                                                                             \n",
      "1    False   False   False  False   False    False    False    False  False   \n",
      "2    False   False   False  False   False    False    False    False  False   \n",
      "3    False   False   False  False   False    False    False    False  False   \n",
      "3    False   False   False  False   False    False    False    False  False   \n",
      "4    False   False    True  False   False    False    False    False  False   \n",
      "..     ...     ...     ...    ...     ...      ...      ...      ...    ...   \n",
      "719  False   False   False  False   False    False    False    False  False   \n",
      "719  False   False   False  False   False    False    False    False  False   \n",
      "720  False   False   False  False   False    False    False    False  False   \n",
      "720  False   False   False  False   False    False    False    False  False   \n",
      "721  False   False   False  False   False    False    False    False  False   \n",
      "\n",
      "     Generation  Legendary  \n",
      "#                           \n",
      "1         False      False  \n",
      "2         False      False  \n",
      "3         False      False  \n",
      "3         False      False  \n",
      "4         False      False  \n",
      "..          ...        ...  \n",
      "719       False      False  \n",
      "719       False      False  \n",
      "720       False      False  \n",
      "720       False      False  \n",
      "721       False      False  \n",
      "\n",
      "[800 rows x 11 columns]\n"
     ]
    }
   ],
   "source": [
    "print(poke_df.isnull())"
   ]
  },
  {
   "cell_type": "markdown",
   "id": "edce5ee4",
   "metadata": {},
   "source": [
    "# isnull().sum()\n",
    "displays the total count of null values"
   ]
  },
  {
   "cell_type": "code",
   "execution_count": 9,
   "id": "232ab12b",
   "metadata": {},
   "outputs": [
    {
     "name": "stdout",
     "output_type": "stream",
     "text": [
      "Name            0\n",
      "Type 1          0\n",
      "Type 2        386\n",
      "HP              0\n",
      "Attack          0\n",
      "Defense         0\n",
      "Sp. Atk         0\n",
      "Sp. Def         0\n",
      "Speed           0\n",
      "Generation      0\n",
      "Legendary       0\n",
      "dtype: int64\n"
     ]
    }
   ],
   "source": [
    "count_null=poke_df.isnull().sum()\n",
    "print(count_null)"
   ]
  },
  {
   "cell_type": "code",
   "execution_count": 10,
   "id": "34eb1597",
   "metadata": {},
   "outputs": [
    {
     "name": "stdout",
     "output_type": "stream",
     "text": [
      "#\n",
      "1     Poison\n",
      "2     Poison\n",
      "3     Poison\n",
      "3     Poison\n",
      "4        NaN\n",
      "5        NaN\n",
      "6     Flying\n",
      "6     Dragon\n",
      "6     Flying\n",
      "7        NaN\n",
      "8        NaN\n",
      "9        NaN\n",
      "9        NaN\n",
      "10       NaN\n",
      "11       NaN\n",
      "12    Flying\n",
      "13    Poison\n",
      "14    Poison\n",
      "15    Poison\n",
      "15    Poison\n",
      "16    Flying\n",
      "17    Flying\n",
      "18    Flying\n",
      "18    Flying\n",
      "19       NaN\n",
      "20       NaN\n",
      "21    Flying\n",
      "22    Flying\n",
      "23       NaN\n",
      "24       NaN\n",
      "Name: Type 2, dtype: object\n"
     ]
    }
   ],
   "source": [
    "type_two=poke_df['Type 2'].head(30)\n",
    "print(type_two)"
   ]
  },
  {
   "cell_type": "markdown",
   "id": "95083fe4",
   "metadata": {},
   "source": [
    "# dropna()\n",
    "use to drop null values"
   ]
  },
  {
   "cell_type": "markdown",
   "id": "bb7ec049",
   "metadata": {},
   "source": [
    "# dropna(axis=1)\n",
    "drops an entire column"
   ]
  },
  {
   "cell_type": "markdown",
   "id": "b97a16ef",
   "metadata": {},
   "source": [
    "# fillna()\n",
    "used to fill missing values instead of dropping them"
   ]
  },
  {
   "cell_type": "code",
   "execution_count": 11,
   "id": "5fc60157",
   "metadata": {},
   "outputs": [
    {
     "name": "stdout",
     "output_type": "stream",
     "text": [
      "Name          0\n",
      "Type 1        0\n",
      "Type 2        0\n",
      "HP            0\n",
      "Attack        0\n",
      "Defense       0\n",
      "Sp. Atk       0\n",
      "Sp. Def       0\n",
      "Speed         0\n",
      "Generation    0\n",
      "Legendary     0\n",
      "dtype: int64\n"
     ]
    }
   ],
   "source": [
    "fill_type_two=poke_df['Type 2']\n",
    "mode_two=fill_type_two.mode()[0]\n",
    "fill_type_two.fillna(mode_two,inplace=True)\n",
    "count_null=poke_df.isnull().sum()\n",
    "print(count_null)"
   ]
  },
  {
   "cell_type": "markdown",
   "id": "839149af",
   "metadata": {},
   "source": [
    "in the above code, we have use mode to fill the empty row values"
   ]
  },
  {
   "cell_type": "markdown",
   "id": "7dab44d6",
   "metadata": {},
   "source": [
    "# drop_duplicates"
   ]
  },
  {
   "cell_type": "code",
   "execution_count": 12,
   "id": "65b5603c",
   "metadata": {},
   "outputs": [
    {
     "name": "stdout",
     "output_type": "stream",
     "text": [
      "                      Name   Type 1  Type 2  HP  Attack  Defense  Sp. Atk  \\\n",
      "#                                                                           \n",
      "1                Bulbasaur    Grass  Poison  45      49       49       65   \n",
      "2                  Ivysaur    Grass  Poison  60      62       63       80   \n",
      "3                 Venusaur    Grass  Poison  80      82       83      100   \n",
      "3    VenusaurMega Venusaur    Grass  Poison  80     100      123      122   \n",
      "4               Charmander     Fire  Flying  39      52       43       60   \n",
      "..                     ...      ...     ...  ..     ...      ...      ...   \n",
      "719                Diancie     Rock   Fairy  50     100      150      100   \n",
      "719    DiancieMega Diancie     Rock   Fairy  50     160      110      160   \n",
      "720    HoopaHoopa Confined  Psychic   Ghost  80     110       60      150   \n",
      "720     HoopaHoopa Unbound  Psychic    Dark  80     160       60      170   \n",
      "721              Volcanion     Fire   Water  80     110      120      130   \n",
      "\n",
      "     Sp. Def  Speed  Generation  Legendary  \n",
      "#                                           \n",
      "1         65     45           1      False  \n",
      "2         80     60           1      False  \n",
      "3        100     80           1      False  \n",
      "3        120     80           1      False  \n",
      "4         50     65           1      False  \n",
      "..       ...    ...         ...        ...  \n",
      "719      150     50           6       True  \n",
      "719      110    110           6       True  \n",
      "720      130     70           6       True  \n",
      "720      130     80           6       True  \n",
      "721       90     70           6       True  \n",
      "\n",
      "[800 rows x 11 columns]\n"
     ]
    }
   ],
   "source": [
    "duplicates=poke_df.drop_duplicates()\n",
    "print(duplicates)"
   ]
  },
  {
   "cell_type": "code",
   "execution_count": 13,
   "id": "92697a44",
   "metadata": {},
   "outputs": [
    {
     "name": "stdout",
     "output_type": "stream",
     "text": [
      "Name          0\n",
      "Type 1        0\n",
      "Type 2        0\n",
      "HP            0\n",
      "Attack        0\n",
      "Defense       0\n",
      "Sp. Atk       0\n",
      "Sp. Def       0\n",
      "Speed         0\n",
      "Generation    0\n",
      "Legendary     0\n",
      "dtype: int64\n"
     ]
    }
   ],
   "source": [
    "count_null=poke_df.isnull().sum()\n",
    "print(count_null)"
   ]
  },
  {
   "cell_type": "markdown",
   "id": "a91b35ac",
   "metadata": {},
   "source": [
    "# value_counts()\n",
    "show more details of a series"
   ]
  },
  {
   "cell_type": "code",
   "execution_count": 14,
   "id": "5d82f8e3",
   "metadata": {},
   "outputs": [
    {
     "name": "stdout",
     "output_type": "stream",
     "text": [
      "Type 1\n",
      "Water       112\n",
      "Normal       98\n",
      "Grass        70\n",
      "Bug          69\n",
      "Psychic      57\n",
      "Fire         52\n",
      "Electric     44\n",
      "Rock         44\n",
      "Dragon       32\n",
      "Ground       32\n",
      "Ghost        32\n",
      "Dark         31\n",
      "Poison       28\n",
      "Steel        27\n",
      "Fighting     27\n",
      "Ice          24\n",
      "Fairy        17\n",
      "Flying        4\n",
      "Name: count, dtype: int64\n"
     ]
    }
   ],
   "source": [
    "value=poke_df['Type 1'].value_counts()\n",
    "print(value)"
   ]
  },
  {
   "cell_type": "markdown",
   "id": "46732683",
   "metadata": {},
   "source": [
    "in the above series. we can see water has the most occurance while flying has the lowest occurance"
   ]
  },
  {
   "cell_type": "markdown",
   "id": "7d8bc6b7",
   "metadata": {},
   "source": [
    "# corr()\n",
    "show relationship between series in the dataframe"
   ]
  },
  {
   "cell_type": "code",
   "execution_count": 15,
   "id": "d08ac647",
   "metadata": {},
   "outputs": [
    {
     "name": "stdout",
     "output_type": "stream",
     "text": [
      "                  HP    Attack   Defense   Sp. Atk   Sp. Def     Speed  \\\n",
      "HP          1.000000  0.422386  0.239622  0.362380  0.378718  0.175952   \n",
      "Attack      0.422386  1.000000  0.438687  0.396362  0.263990  0.381240   \n",
      "Defense     0.239622  0.438687  1.000000  0.223549  0.510747  0.015227   \n",
      "Sp. Atk     0.362380  0.396362  0.223549  1.000000  0.506121  0.473018   \n",
      "Sp. Def     0.378718  0.263990  0.510747  0.506121  1.000000  0.259133   \n",
      "Speed       0.175952  0.381240  0.015227  0.473018  0.259133  1.000000   \n",
      "Generation  0.058683  0.051451  0.042419  0.036437  0.028486 -0.023121   \n",
      "\n",
      "            Generation  \n",
      "HP            0.058683  \n",
      "Attack        0.051451  \n",
      "Defense       0.042419  \n",
      "Sp. Atk       0.036437  \n",
      "Sp. Def       0.028486  \n",
      "Speed        -0.023121  \n",
      "Generation    1.000000  \n"
     ]
    }
   ],
   "source": [
    "#Positive numbers indicate a positive correlation — one goes up the other goes up — and\n",
    "# negative numbers represent an inverse correlation — one goes up the other goes down.\n",
    "# 1.0 indicates a perfect correlation.\n",
    "# The corr() function in pandas calculates correlations between numeric columns, and \n",
    "# it cannot handle non-numeric data.\n",
    "numeric_columns = poke_df.select_dtypes(include='number')\n",
    "correlate = numeric_columns.corr()\n",
    "print(correlate)"
   ]
  },
  {
   "cell_type": "markdown",
   "id": "8e62dc33",
   "metadata": {},
   "source": [
    "# DataFrame manipulation"
   ]
  },
  {
   "cell_type": "markdown",
   "id": "85f68eee",
   "metadata": {},
   "source": [
    "# by row"
   ]
  },
  {
   "cell_type": "markdown",
   "id": "9124c52e",
   "metadata": {},
   "source": [
    "# .loc[]\n",
    "extract data from rows using the name"
   ]
  },
  {
   "cell_type": "code",
   "execution_count": 16,
   "id": "9866a61b",
   "metadata": {},
   "outputs": [
    {
     "name": "stdout",
     "output_type": "stream",
     "text": [
      "                      Name Type 1    Type 2   HP  Attack  Defense  Sp. Atk  \\\n",
      "#                                                                            \n",
      "1                Bulbasaur  Grass    Poison   45      49       49       65   \n",
      "2                  Ivysaur  Grass    Poison   60      62       63       80   \n",
      "3                 Venusaur  Grass    Poison   80      82       83      100   \n",
      "3    VenusaurMega Venusaur  Grass    Poison   80     100      123      122   \n",
      "43                  Oddish  Grass    Poison   45      50       55       75   \n",
      "..                     ...    ...       ...  ...     ...      ...      ...   \n",
      "650                Chespin  Grass    Flying   56      61       65       48   \n",
      "651              Quilladin  Grass    Flying   61      78       95       56   \n",
      "652             Chesnaught  Grass  Fighting   88     107      122       74   \n",
      "672                 Skiddo  Grass    Flying   66      65       48       62   \n",
      "673                 Gogoat  Grass    Flying  123     100       62       97   \n",
      "\n",
      "     Sp. Def  Speed  Generation  Legendary  \n",
      "#                                           \n",
      "1         65     45           1      False  \n",
      "2         80     60           1      False  \n",
      "3        100     80           1      False  \n",
      "3        120     80           1      False  \n",
      "43        65     30           1      False  \n",
      "..       ...    ...         ...        ...  \n",
      "650       45     38           6      False  \n",
      "651       58     57           6      False  \n",
      "652       75     64           6      False  \n",
      "672       57     52           6      False  \n",
      "673       81     68           6      False  \n",
      "\n",
      "[70 rows x 11 columns]\n"
     ]
    }
   ],
   "source": [
    "row_data = poke_df.loc[poke_df['Type 1']=='Grass']\n",
    "print(row_data)\n"
   ]
  },
  {
   "cell_type": "code",
   "execution_count": 17,
   "id": "2e9c5830",
   "metadata": {},
   "outputs": [
    {
     "name": "stdout",
     "output_type": "stream",
     "text": [
      "Index([  1,   2,   3,   3,   4,   5,   6,   6,   6,   7,\n",
      "       ...\n",
      "       714, 715, 716, 717, 718, 719, 719, 720, 720, 721],\n",
      "      dtype='int64', name='#', length=800)\n"
     ]
    }
   ],
   "source": [
    "print(poke_df.index)"
   ]
  },
  {
   "cell_type": "markdown",
   "id": "098cc22f",
   "metadata": {},
   "source": [
    "# .iloc[]\n",
    "uses index to exract data"
   ]
  },
  {
   "cell_type": "code",
   "execution_count": 18,
   "id": "2935ce12",
   "metadata": {},
   "outputs": [
    {
     "name": "stdout",
     "output_type": "stream",
     "text": [
      "Name          Ivysaur\n",
      "Type 1          Grass\n",
      "Type 2         Poison\n",
      "HP                 60\n",
      "Attack             62\n",
      "Defense            63\n",
      "Sp. Atk            80\n",
      "Sp. Def            80\n",
      "Speed              60\n",
      "Generation          1\n",
      "Legendary       False\n",
      "Name: 2, dtype: object\n"
     ]
    }
   ],
   "source": [
    "row_data = poke_df.iloc[1]\n",
    "print(row_data)"
   ]
  },
  {
   "cell_type": "code",
   "execution_count": 19,
   "id": "e48f5e69",
   "metadata": {},
   "outputs": [
    {
     "name": "stdout",
     "output_type": "stream",
     "text": [
      "                    Name Type 1  Type 2  HP  Attack  Defense  Sp. Atk  \\\n",
      "#                                                                       \n",
      "2                Ivysaur  Grass  Poison  60      62       63       80   \n",
      "3               Venusaur  Grass  Poison  80      82       83      100   \n",
      "3  VenusaurMega Venusaur  Grass  Poison  80     100      123      122   \n",
      "4             Charmander   Fire  Flying  39      52       43       60   \n",
      "\n",
      "   Sp. Def  Speed  Generation  Legendary  \n",
      "#                                         \n",
      "2       80     60           1      False  \n",
      "3      100     80           1      False  \n",
      "3      120     80           1      False  \n",
      "4       50     65           1      False  \n"
     ]
    }
   ],
   "source": [
    "row_data = poke_df.iloc[1:5]\n",
    "print(row_data)"
   ]
  },
  {
   "cell_type": "markdown",
   "id": "a6038911",
   "metadata": {},
   "source": [
    "# conditions "
   ]
  },
  {
   "cell_type": "code",
   "execution_count": 20,
   "id": "b00d7e9a",
   "metadata": {},
   "outputs": [
    {
     "name": "stdout",
     "output_type": "stream",
     "text": [
      "                      Name Type 1  Type 2   HP  Attack  Defense  Sp. Atk  \\\n",
      "#                                                                          \n",
      "1                Bulbasaur  Grass  Poison   45      49       49       65   \n",
      "2                  Ivysaur  Grass  Poison   60      62       63       80   \n",
      "3                 Venusaur  Grass  Poison   80      82       83      100   \n",
      "3    VenusaurMega Venusaur  Grass  Poison   80     100      123      122   \n",
      "13                  Weedle    Bug  Poison   40      35       30       20   \n",
      "14                  Kakuna    Bug  Poison   45      25       50       25   \n",
      "15                Beedrill    Bug  Poison   65      90       40       45   \n",
      "15   BeedrillMega Beedrill    Bug  Poison   65     150       40       15   \n",
      "43                  Oddish  Grass  Poison   45      50       55       75   \n",
      "44                   Gloom  Grass  Poison   60      65       70       85   \n",
      "45               Vileplume  Grass  Poison   75      80       85      110   \n",
      "48                 Venonat    Bug  Poison   60      55       50       40   \n",
      "49                Venomoth    Bug  Poison   70      65       60       90   \n",
      "69              Bellsprout  Grass  Poison   50      75       35       70   \n",
      "70              Weepinbell  Grass  Poison   65      90       50       85   \n",
      "71              Victreebel  Grass  Poison   80     105       65      100   \n",
      "72               Tentacool  Water  Poison   40      40       35       50   \n",
      "73              Tentacruel  Water  Poison   80      70       65       80   \n",
      "92                  Gastly  Ghost  Poison   30      35       30      100   \n",
      "93                 Haunter  Ghost  Poison   45      50       45      115   \n",
      "94                  Gengar  Ghost  Poison   60      65       60      130   \n",
      "94       GengarMega Gengar  Ghost  Poison   60      65       80      170   \n",
      "167               Spinarak    Bug  Poison   40      60       40       40   \n",
      "168                Ariados    Bug  Poison   70      90       70       60   \n",
      "211               Qwilfish  Water  Poison   65      95       75       55   \n",
      "269                 Dustox    Bug  Poison   60      50       70       50   \n",
      "315                Roselia  Grass  Poison   50      60       45      100   \n",
      "406                  Budew  Grass  Poison   40      30       35       50   \n",
      "407               Roserade  Grass  Poison   60      70       65      125   \n",
      "543               Venipede    Bug  Poison   30      45       59       30   \n",
      "544             Whirlipede    Bug  Poison   40      55       99       40   \n",
      "545              Scolipede    Bug  Poison   60     100       89       55   \n",
      "590                Foongus  Grass  Poison   69      55       45       55   \n",
      "591              Amoonguss  Grass  Poison  114      85       70       85   \n",
      "\n",
      "     Sp. Def  Speed  Generation  Legendary  \n",
      "#                                           \n",
      "1         65     45           1      False  \n",
      "2         80     60           1      False  \n",
      "3        100     80           1      False  \n",
      "3        120     80           1      False  \n",
      "13        20     50           1      False  \n",
      "14        25     35           1      False  \n",
      "15        80     75           1      False  \n",
      "15        80    145           1      False  \n",
      "43        65     30           1      False  \n",
      "44        75     40           1      False  \n",
      "45        90     50           1      False  \n",
      "48        55     45           1      False  \n",
      "49        75     90           1      False  \n",
      "69        30     40           1      False  \n",
      "70        45     55           1      False  \n",
      "71        70     70           1      False  \n",
      "72       100     70           1      False  \n",
      "73       120    100           1      False  \n",
      "92        35     80           1      False  \n",
      "93        55     95           1      False  \n",
      "94        75    110           1      False  \n",
      "94        95    130           1      False  \n",
      "167       40     30           2      False  \n",
      "168       60     40           2      False  \n",
      "211       55     85           2      False  \n",
      "269       90     65           3      False  \n",
      "315       80     65           3      False  \n",
      "406       70     55           4      False  \n",
      "407      105     90           4      False  \n",
      "543       39     57           5      False  \n",
      "544       79     47           5      False  \n",
      "545       69    112           5      False  \n",
      "590       55     15           5      False  \n",
      "591       80     30           5      False  \n"
     ]
    }
   ],
   "source": [
    "condition = poke_df[poke_df['Type 2'] == \"Poison\"]\n",
    "print(condition)"
   ]
  },
  {
   "cell_type": "code",
   "execution_count": 21,
   "id": "cac3b9ff",
   "metadata": {},
   "outputs": [
    {
     "name": "stdout",
     "output_type": "stream",
     "text": [
      "Name          BulbasaurIvysaurVenusaurVenusaurMega VenusaurW...\n",
      "Type 1        GrassGrassGrassGrassBugBugBugBugGrassGrassGras...\n",
      "Type 2        PoisonPoisonPoisonPoisonPoisonPoisonPoisonPois...\n",
      "HP                                                         1998\n",
      "Attack                                                     2298\n",
      "Defense                                                    2025\n",
      "Sp. Atk                                                    2517\n",
      "Sp. Def                                                    2377\n",
      "Speed                                                      2266\n",
      "Generation                                                   67\n",
      "Legendary                                                     0\n",
      "dtype: object\n"
     ]
    }
   ],
   "source": [
    "condition = poke_df[poke_df['Type 2'] == \"Poison\"]\n",
    "sum=condition.sum()\n",
    "print(sum)"
   ]
  },
  {
   "cell_type": "code",
   "execution_count": 22,
   "id": "6484cf59",
   "metadata": {},
   "outputs": [
    {
     "name": "stdout",
     "output_type": "stream",
     "text": [
      "Name          34\n",
      "Type 1        34\n",
      "Type 2        34\n",
      "HP            34\n",
      "Attack        34\n",
      "Defense       34\n",
      "Sp. Atk       34\n",
      "Sp. Def       34\n",
      "Speed         34\n",
      "Generation    34\n",
      "Legendary     34\n",
      "dtype: int64\n"
     ]
    }
   ],
   "source": [
    "condition = poke_df[poke_df['Type 2'] == \"Poison\"]\n",
    "sum=condition.count()\n",
    "print(sum)"
   ]
  },
  {
   "cell_type": "code",
   "execution_count": 23,
   "id": "9bd1e691",
   "metadata": {},
   "outputs": [
    {
     "name": "stdout",
     "output_type": "stream",
     "text": [
      "(34, 11)\n"
     ]
    }
   ],
   "source": [
    "condition = poke_df[poke_df['Type 2'] == \"Poison\"]\n",
    "sum=condition.shape\n",
    "print(sum)"
   ]
  },
  {
   "cell_type": "markdown",
   "id": "2fc2baac",
   "metadata": {},
   "source": [
    "# condition with or '|'"
   ]
  },
  {
   "cell_type": "code",
   "execution_count": 24,
   "id": "f5b21d98",
   "metadata": {},
   "outputs": [
    {
     "name": "stdout",
     "output_type": "stream",
     "text": [
      "                      Name Type 1    Type 2   HP  Attack  Defense  Sp. Atk  \\\n",
      "#                                                                            \n",
      "1                Bulbasaur  Grass    Poison   45      49       49       65   \n",
      "2                  Ivysaur  Grass    Poison   60      62       63       80   \n",
      "3                 Venusaur  Grass    Poison   80      82       83      100   \n",
      "3    VenusaurMega Venusaur  Grass    Poison   80     100      123      122   \n",
      "13                  Weedle    Bug    Poison   40      35       30       20   \n",
      "..                     ...    ...       ...  ...     ...      ...      ...   \n",
      "650                Chespin  Grass    Flying   56      61       65       48   \n",
      "651              Quilladin  Grass    Flying   61      78       95       56   \n",
      "652             Chesnaught  Grass  Fighting   88     107      122       74   \n",
      "672                 Skiddo  Grass    Flying   66      65       48       62   \n",
      "673                 Gogoat  Grass    Flying  123     100       62       97   \n",
      "\n",
      "     Sp. Def  Speed  Generation  Legendary  \n",
      "#                                           \n",
      "1         65     45           1      False  \n",
      "2         80     60           1      False  \n",
      "3        100     80           1      False  \n",
      "3        120     80           1      False  \n",
      "13        20     50           1      False  \n",
      "..       ...    ...         ...        ...  \n",
      "650       45     38           6      False  \n",
      "651       58     57           6      False  \n",
      "652       75     64           6      False  \n",
      "672       57     52           6      False  \n",
      "673       81     68           6      False  \n",
      "\n",
      "[89 rows x 11 columns]\n"
     ]
    }
   ],
   "source": [
    "condition = poke_df[(poke_df['Type 2'] == \"Poison\") | (poke_df['Type 1'] == \"Grass\")]\n",
    "print(condition)"
   ]
  },
  {
   "cell_type": "markdown",
   "id": "a6e88bc9",
   "metadata": {},
   "source": [
    "# isin() subsitutes the ()"
   ]
  },
  {
   "cell_type": "code",
   "execution_count": 25,
   "id": "be2b9b33",
   "metadata": {},
   "outputs": [
    {
     "name": "stdout",
     "output_type": "stream",
     "text": [
      "                      Name  Type 1  Type 2   HP  Attack  Defense  Sp. Atk  \\\n",
      "#                                                                           \n",
      "1                Bulbasaur   Grass  Poison   45      49       49       65   \n",
      "2                  Ivysaur   Grass  Poison   60      62       63       80   \n",
      "3                 Venusaur   Grass  Poison   80      82       83      100   \n",
      "3    VenusaurMega Venusaur   Grass  Poison   80     100      123      122   \n",
      "4               Charmander    Fire  Flying   39      52       43       60   \n",
      "..                     ...     ...     ...  ...     ...      ...      ...   \n",
      "706                 Goodra  Dragon  Flying   90     100       70      110   \n",
      "712               Bergmite     Ice  Flying   55      69       85       32   \n",
      "713                Avalugg     Ice  Flying   95     117      184       44   \n",
      "716                Xerneas   Fairy  Flying  126     131       95      131   \n",
      "717                Yveltal    Dark  Flying  126     131       95      131   \n",
      "\n",
      "     Sp. Def  Speed  Generation  Legendary  \n",
      "#                                           \n",
      "1         65     45           1      False  \n",
      "2         80     60           1      False  \n",
      "3        100     80           1      False  \n",
      "3        120     80           1      False  \n",
      "4         50     65           1      False  \n",
      "..       ...    ...         ...        ...  \n",
      "706      150     80           6      False  \n",
      "712       35     28           6      False  \n",
      "713       46     28           6      False  \n",
      "716       98     99           6       True  \n",
      "717       98     99           6       True  \n",
      "\n",
      "[517 rows x 11 columns]\n"
     ]
    }
   ],
   "source": [
    "condition = poke_df[poke_df['Type 2'].isin(['Poison','Flying'])]\n",
    "print(condition)"
   ]
  },
  {
   "cell_type": "markdown",
   "id": "a4fab5e9",
   "metadata": {},
   "source": [
    "# multiple conditional statement"
   ]
  },
  {
   "cell_type": "code",
   "execution_count": 26,
   "id": "e031f3bf",
   "metadata": {},
   "outputs": [
    {
     "name": "stdout",
     "output_type": "stream",
     "text": [
      "                    Name Type 1  Type 2  HP  Attack  Defense  Sp. Atk  \\\n",
      "#                                                                       \n",
      "1              Bulbasaur  Grass  Poison  45      49       49       65   \n",
      "2                Ivysaur  Grass  Poison  60      62       63       80   \n",
      "3               Venusaur  Grass  Poison  80      82       83      100   \n",
      "3  VenusaurMega Venusaur  Grass  Poison  80     100      123      122   \n",
      "4             Charmander   Fire  Flying  39      52       43       60   \n",
      "\n",
      "   Sp. Def  Speed  Generation  Legendary  \n",
      "#                                         \n",
      "1       65     45           1      False  \n",
      "2       80     60           1      False  \n",
      "3      100     80           1      False  \n",
      "3      120     80           1      False  \n",
      "4       50     65           1      False  \n"
     ]
    }
   ],
   "source": [
    "print(poke_df.head())"
   ]
  },
  {
   "cell_type": "code",
   "execution_count": 27,
   "id": "47086be6",
   "metadata": {},
   "outputs": [
    {
     "name": "stdout",
     "output_type": "stream",
     "text": [
      "                          Name Type 1    Type 2   HP  Attack  Defense  \\\n",
      "#                                                                       \n",
      "3                     Venusaur  Grass    Poison   80      82       83   \n",
      "3        VenusaurMega Venusaur  Grass    Poison   80     100      123   \n",
      "6    CharizardMega Charizard X   Fire    Dragon   78     130      111   \n",
      "103                  Exeggutor  Grass   Psychic   95      95       85   \n",
      "146                    Moltres   Fire    Flying   90     100       90   \n",
      "154                   Meganium  Grass    Flying   80      82      100   \n",
      "244                      Entei   Fire    Flying  115     115       85   \n",
      "250                      Ho-oh   Fire    Flying  106     130       90   \n",
      "323      CameruptMega Camerupt   Fire    Ground   70     120      100   \n",
      "324                    Torkoal   Fire    Flying   70      85      140   \n",
      "388                     Grotle  Grass    Flying   75      89       85   \n",
      "389                   Torterra  Grass    Ground   95     109      105   \n",
      "460    AbomasnowMega Abomasnow  Grass       Ice   90     132      105   \n",
      "465                  Tangrowth  Grass    Flying  100     100      125   \n",
      "470                    Leafeon  Grass    Flying   65     110      130   \n",
      "485                    Heatran   Fire     Steel   91      90      106   \n",
      "492          ShayminLand Forme  Grass    Flying  100     100      100   \n",
      "598                 Ferrothorn  Grass     Steel   74      94      131   \n",
      "652                 Chesnaught  Grass  Fighting   88     107      122   \n",
      "721                  Volcanion   Fire     Water   80     110      120   \n",
      "\n",
      "     Sp. Atk  Sp. Def  Speed  Generation  Legendary  \n",
      "#                                                    \n",
      "3        100      100     80           1      False  \n",
      "3        122      120     80           1      False  \n",
      "6        130       85    100           1      False  \n",
      "103      125       65     55           1      False  \n",
      "146      125       85     90           1       True  \n",
      "154       83      100     80           2      False  \n",
      "244       90       75    100           2       True  \n",
      "250      110      154     90           2       True  \n",
      "323      145      105     20           3      False  \n",
      "324       85       70     20           3      False  \n",
      "388       55       65     36           4      False  \n",
      "389       75       85     56           4      False  \n",
      "460      132      105     30           4      False  \n",
      "465      110       50     50           4      False  \n",
      "470       60       65     95           4      False  \n",
      "485      130      106     77           4       True  \n",
      "492      100      100    100           4       True  \n",
      "598       54      116     20           5      False  \n",
      "652       74       75     64           6      False  \n",
      "721      130       90     70           6       True  \n",
      "(20, 11)\n"
     ]
    }
   ],
   "source": [
    "multiple=poke_df[\n",
    "    ((poke_df['Type 1']=='Fire') | (poke_df['Type 1']=='Grass'))\n",
    "    &(poke_df['Defense']>80)\n",
    "    &(poke_df['Attack']>80)\n",
    "]\n",
    "print(multiple)\n",
    "#to show the total number\n",
    "print(multiple.shape)"
   ]
  },
  {
   "cell_type": "markdown",
   "id": "1f0205df",
   "metadata": {},
   "source": [
    "# Functions"
   ]
  },
  {
   "cell_type": "code",
   "execution_count": 28,
   "id": "6d9923ce",
   "metadata": {},
   "outputs": [
    {
     "name": "stdout",
     "output_type": "stream",
     "text": [
      "#\n",
      "1      Bad\n",
      "2      Bad\n",
      "3     Good\n",
      "3     Good\n",
      "4      Bad\n",
      "5      Bad\n",
      "6     Good\n",
      "6     Good\n",
      "6     Good\n",
      "7      Bad\n",
      "8      Bad\n",
      "9     Good\n",
      "9     Good\n",
      "10     Bad\n",
      "11     Bad\n",
      "12     Bad\n",
      "13     Bad\n",
      "14     Bad\n",
      "15    Good\n",
      "15    Good\n",
      "16     Bad\n",
      "17     Bad\n",
      "18    Good\n",
      "18    Good\n",
      "19     Bad\n",
      "20    Good\n",
      "21     Bad\n",
      "22    Good\n",
      "23     Bad\n",
      "24    Good\n",
      "Name: Attack Rating, dtype: object\n"
     ]
    }
   ],
   "source": [
    "#create a function to classify attack\n",
    "def attack(x):\n",
    "    if x>=80:\n",
    "        return 'Good'\n",
    "    else:\n",
    "        return 'Bad'\n",
    "#create a new column/series\n",
    "poke_df['Attack Rating']=poke_df['Attack'].apply(attack)\n",
    "\n",
    "#display the attack rating column\n",
    "review=poke_df['Attack Rating']\n",
    "print(review.head(30))"
   ]
  },
  {
   "cell_type": "markdown",
   "id": "19ee9d19",
   "metadata": {},
   "source": [
    "# rename()\n",
    "used to rename columns and rows"
   ]
  },
  {
   "cell_type": "code",
   "execution_count": 29,
   "id": "8b72e90a",
   "metadata": {},
   "outputs": [
    {
     "data": {
      "text/plain": [
       "Index(['name', 'type 1', 'type 2', 'hp', 'attack', 'defense', 'sp. atk',\n",
       "       'sp. def', 'speed', 'generation', 'legendary', 'attack rating'],\n",
       "      dtype='object')"
      ]
     },
     "execution_count": 29,
     "metadata": {},
     "output_type": "execute_result"
    }
   ],
   "source": [
    "#use for loop to change it dynamically\n",
    "#use lowercase\n",
    "poke_df.columns=[col.lower()for col in poke_df]\n",
    "poke_df.columns"
   ]
  },
  {
   "cell_type": "code",
   "execution_count": 30,
   "id": "e21729e6",
   "metadata": {},
   "outputs": [
    {
     "name": "stdout",
     "output_type": "stream",
     "text": [
      "Index(['name', 'type 1', 'type 2', 'hp', 'attack', 'defense', 'sp. atk',\n",
      "       'sp. def', 'speed', 'generation', 'legendary', 'attack rating'],\n",
      "      dtype='object')\n"
     ]
    }
   ],
   "source": [
    "columns=poke_df.columns\n",
    "print(columns)"
   ]
  }
 ],
 "metadata": {
  "kernelspec": {
   "display_name": "Python 3 (ipykernel)",
   "language": "python",
   "name": "python3"
  },
  "language_info": {
   "codemirror_mode": {
    "name": "ipython",
    "version": 3
   },
   "file_extension": ".py",
   "mimetype": "text/x-python",
   "name": "python",
   "nbconvert_exporter": "python",
   "pygments_lexer": "ipython3",
   "version": "3.11.5"
  }
 },
 "nbformat": 4,
 "nbformat_minor": 5
}
